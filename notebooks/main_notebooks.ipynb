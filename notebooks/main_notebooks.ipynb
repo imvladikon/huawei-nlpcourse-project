{
  "nbformat": 4,
  "nbformat_minor": 0,
  "metadata": {
    "kernelspec": {
      "display_name": "Python 3",
      "language": "python",
      "name": "python3"
    },
    "language_info": {
      "codemirror_mode": {
        "name": "ipython",
        "version": 3
      },
      "file_extension": ".py",
      "mimetype": "text/x-python",
      "name": "python",
      "nbconvert_exporter": "python",
      "pygments_lexer": "ipython3",
      "version": "3.7.4"
    },
    "colab": {
      "name": "Topic_Modeling_project.ipynb",
      "provenance": [],
      "machine_shape": "hm"
    },
    "accelerator": "GPU",
    "widgets": {
      "application/vnd.jupyter.widget-state+json": {
        "0e8dfd5ef1904221aae6994617b7b783": {
          "model_module": "@jupyter-widgets/controls",
          "model_name": "HBoxModel",
          "state": {
            "_view_name": "HBoxView",
            "_dom_classes": [],
            "_model_name": "HBoxModel",
            "_view_module": "@jupyter-widgets/controls",
            "_model_module_version": "1.5.0",
            "_view_count": null,
            "_view_module_version": "1.5.0",
            "box_style": "",
            "layout": "IPY_MODEL_8e1e4c65c37647c18c13adc2f3d9e045",
            "_model_module": "@jupyter-widgets/controls",
            "children": [
              "IPY_MODEL_d95662057c5d4bcfa6793d917cc013da",
              "IPY_MODEL_b3d8c35f5c5345b9b9ba336fdc9a785d"
            ]
          }
        },
        "8e1e4c65c37647c18c13adc2f3d9e045": {
          "model_module": "@jupyter-widgets/base",
          "model_name": "LayoutModel",
          "state": {
            "_view_name": "LayoutView",
            "grid_template_rows": null,
            "right": null,
            "justify_content": null,
            "_view_module": "@jupyter-widgets/base",
            "overflow": null,
            "_model_module_version": "1.2.0",
            "_view_count": null,
            "flex_flow": null,
            "width": null,
            "min_width": null,
            "border": null,
            "align_items": null,
            "bottom": null,
            "_model_module": "@jupyter-widgets/base",
            "top": null,
            "grid_column": null,
            "overflow_y": null,
            "overflow_x": null,
            "grid_auto_flow": null,
            "grid_area": null,
            "grid_template_columns": null,
            "flex": null,
            "_model_name": "LayoutModel",
            "justify_items": null,
            "grid_row": null,
            "max_height": null,
            "align_content": null,
            "visibility": null,
            "align_self": null,
            "height": null,
            "min_height": null,
            "padding": null,
            "grid_auto_rows": null,
            "grid_gap": null,
            "max_width": null,
            "order": null,
            "_view_module_version": "1.2.0",
            "grid_template_areas": null,
            "object_position": null,
            "object_fit": null,
            "grid_auto_columns": null,
            "margin": null,
            "display": null,
            "left": null
          }
        },
        "d95662057c5d4bcfa6793d917cc013da": {
          "model_module": "@jupyter-widgets/controls",
          "model_name": "FloatProgressModel",
          "state": {
            "_view_name": "ProgressView",
            "style": "IPY_MODEL_0c894894c3c14dccbc36cb1a2cf305b2",
            "_dom_classes": [],
            "description": "text preprocessing: 100%",
            "_model_name": "FloatProgressModel",
            "bar_style": "success",
            "max": 46187,
            "_view_module": "@jupyter-widgets/controls",
            "_model_module_version": "1.5.0",
            "value": 46187,
            "_view_count": null,
            "_view_module_version": "1.5.0",
            "orientation": "horizontal",
            "min": 0,
            "description_tooltip": null,
            "_model_module": "@jupyter-widgets/controls",
            "layout": "IPY_MODEL_d52dd296f1d8493595092476f6463b24"
          }
        },
        "b3d8c35f5c5345b9b9ba336fdc9a785d": {
          "model_module": "@jupyter-widgets/controls",
          "model_name": "HTMLModel",
          "state": {
            "_view_name": "HTMLView",
            "style": "IPY_MODEL_80ba34d26d854cd5ae082a5df0331255",
            "_dom_classes": [],
            "description": "",
            "_model_name": "HTMLModel",
            "placeholder": "​",
            "_view_module": "@jupyter-widgets/controls",
            "_model_module_version": "1.5.0",
            "value": " 46187/46187 [01:25&lt;00:00, 540.96it/s]",
            "_view_count": null,
            "_view_module_version": "1.5.0",
            "description_tooltip": null,
            "_model_module": "@jupyter-widgets/controls",
            "layout": "IPY_MODEL_f67fce4c7d9948b88e5b7d22a465b5aa"
          }
        },
        "0c894894c3c14dccbc36cb1a2cf305b2": {
          "model_module": "@jupyter-widgets/controls",
          "model_name": "ProgressStyleModel",
          "state": {
            "_view_name": "StyleView",
            "_model_name": "ProgressStyleModel",
            "description_width": "initial",
            "_view_module": "@jupyter-widgets/base",
            "_model_module_version": "1.5.0",
            "_view_count": null,
            "_view_module_version": "1.2.0",
            "bar_color": null,
            "_model_module": "@jupyter-widgets/controls"
          }
        },
        "d52dd296f1d8493595092476f6463b24": {
          "model_module": "@jupyter-widgets/base",
          "model_name": "LayoutModel",
          "state": {
            "_view_name": "LayoutView",
            "grid_template_rows": null,
            "right": null,
            "justify_content": null,
            "_view_module": "@jupyter-widgets/base",
            "overflow": null,
            "_model_module_version": "1.2.0",
            "_view_count": null,
            "flex_flow": null,
            "width": null,
            "min_width": null,
            "border": null,
            "align_items": null,
            "bottom": null,
            "_model_module": "@jupyter-widgets/base",
            "top": null,
            "grid_column": null,
            "overflow_y": null,
            "overflow_x": null,
            "grid_auto_flow": null,
            "grid_area": null,
            "grid_template_columns": null,
            "flex": null,
            "_model_name": "LayoutModel",
            "justify_items": null,
            "grid_row": null,
            "max_height": null,
            "align_content": null,
            "visibility": null,
            "align_self": null,
            "height": null,
            "min_height": null,
            "padding": null,
            "grid_auto_rows": null,
            "grid_gap": null,
            "max_width": null,
            "order": null,
            "_view_module_version": "1.2.0",
            "grid_template_areas": null,
            "object_position": null,
            "object_fit": null,
            "grid_auto_columns": null,
            "margin": null,
            "display": null,
            "left": null
          }
        },
        "80ba34d26d854cd5ae082a5df0331255": {
          "model_module": "@jupyter-widgets/controls",
          "model_name": "DescriptionStyleModel",
          "state": {
            "_view_name": "StyleView",
            "_model_name": "DescriptionStyleModel",
            "description_width": "",
            "_view_module": "@jupyter-widgets/base",
            "_model_module_version": "1.5.0",
            "_view_count": null,
            "_view_module_version": "1.2.0",
            "_model_module": "@jupyter-widgets/controls"
          }
        },
        "f67fce4c7d9948b88e5b7d22a465b5aa": {
          "model_module": "@jupyter-widgets/base",
          "model_name": "LayoutModel",
          "state": {
            "_view_name": "LayoutView",
            "grid_template_rows": null,
            "right": null,
            "justify_content": null,
            "_view_module": "@jupyter-widgets/base",
            "overflow": null,
            "_model_module_version": "1.2.0",
            "_view_count": null,
            "flex_flow": null,
            "width": null,
            "min_width": null,
            "border": null,
            "align_items": null,
            "bottom": null,
            "_model_module": "@jupyter-widgets/base",
            "top": null,
            "grid_column": null,
            "overflow_y": null,
            "overflow_x": null,
            "grid_auto_flow": null,
            "grid_area": null,
            "grid_template_columns": null,
            "flex": null,
            "_model_name": "LayoutModel",
            "justify_items": null,
            "grid_row": null,
            "max_height": null,
            "align_content": null,
            "visibility": null,
            "align_self": null,
            "height": null,
            "min_height": null,
            "padding": null,
            "grid_auto_rows": null,
            "grid_gap": null,
            "max_width": null,
            "order": null,
            "_view_module_version": "1.2.0",
            "grid_template_areas": null,
            "object_position": null,
            "object_fit": null,
            "grid_auto_columns": null,
            "margin": null,
            "display": null,
            "left": null
          }
        }
      }
    }
  },
  "cells": [
    {
      "cell_type": "code",
      "metadata": {
        "colab": {
          "base_uri": "https://localhost:8080/"
        },
        "id": "u1Wf4tPE__WT",
        "outputId": "f5dff5d6-d142-4735-b6ca-4d1c428ba9b7"
      },
      "source": [
        "!git clone https://github.com/imvladikon/huawei-nlpcourse-project"
      ],
      "execution_count": null,
      "outputs": [
        {
          "output_type": "stream",
          "text": [
            "fatal: destination path 'huawei-nlpcourse-project' already exists and is not an empty directory.\n"
          ],
          "name": "stdout"
        }
      ]
    },
    {
      "cell_type": "code",
      "metadata": {
        "id": "70dyXDSVALZ5"
      },
      "source": [
        "import os\n",
        "os.chdir(\"huawei-nlpcourse-project\")"
      ],
      "execution_count": null,
      "outputs": []
    },
    {
      "cell_type": "code",
      "metadata": {
        "colab": {
          "base_uri": "https://localhost:8080/"
        },
        "id": "wv8ioKjEAsnx",
        "outputId": "43dc0b80-719b-4a9d-ecc2-31cb8a872c8b"
      },
      "source": [
        "%%capture\n",
        "\n",
        "!pip install -r requirements.txt\n",
        "!pip install lda"
      ],
      "execution_count": null,
      "outputs": [
        {
          "output_type": "stream",
          "text": [
            "Requirement already satisfied: unidecode in /usr/local/lib/python3.6/dist-packages (1.1.2)\n"
          ],
          "name": "stdout"
        }
      ]
    },
    {
      "cell_type": "code",
      "metadata": {
        "id": "EjG7DpNizYeJ"
      },
      "source": [
        "import gensim.corpora as corpora\n",
        "from utils.preprocessing import Vocab, preprocess_text, HebTokenizer\n",
        "\n",
        "from sklearn.metrics import *\n",
        "import numpy as np\n",
        "np.random.seed(42)\n",
        "import random\n",
        "random.seed(42)\n",
        "\n",
        "import pandas as pd\n",
        "from sklearn.model_selection import train_test_split\n",
        "from utils.string_utils import preprocessing\n",
        "from tqdm.notebook import tqdm"
      ],
      "execution_count": null,
      "outputs": []
    },
    {
      "cell_type": "code",
      "metadata": {
        "colab": {
          "base_uri": "https://localhost:8080/"
        },
        "id": "BDF7xWFNA_M4",
        "outputId": "c5c45389-a659-48d6-bcc9-680a14179676"
      },
      "source": [
        "df = pd.read_csv(\"/content/drive/MyDrive/hebert/hebrew_news_general_category.csv\")\n",
        "df[\"row_num\"] = df.index\n",
        "df = df[~df.label_new.isna()]\n",
        "df[\"label\"] = df[\"label_new\"]"
      ],
      "execution_count": null,
      "outputs": [
        {
          "output_type": "stream",
          "text": [
            "/usr/local/lib/python3.6/dist-packages/IPython/core/interactiveshell.py:2718: DtypeWarning: Columns (8,11,12,13,14) have mixed types.Specify dtype option on import or set low_memory=False.\n",
            "  interactivity=interactivity, compiler=compiler, result=result)\n"
          ],
          "name": "stderr"
        }
      ]
    },
    {
      "cell_type": "code",
      "metadata": {
        "id": "WLX7kulvBqHY"
      },
      "source": [
        "df_train, df_test = train_test_split(df, test_size=0.2)\n",
        "# df_val, df_test = train_test_split(df_train, test_size=0.5)"
      ],
      "execution_count": null,
      "outputs": []
    },
    {
      "cell_type": "markdown",
      "metadata": {
        "id": "6sepoHFqzYeL"
      },
      "source": [
        "# Preprocess texts"
      ]
    },
    {
      "cell_type": "code",
      "metadata": {
        "id": "1Sw-VOrVK6w7"
      },
      "source": [
        "tqdm._instances.clear()"
      ],
      "execution_count": null,
      "outputs": []
    },
    {
      "cell_type": "code",
      "metadata": {
        "colab": {
          "base_uri": "https://localhost:8080/"
        },
        "id": "n1uGfAXhzYeN",
        "outputId": "920247d8-04b0-4495-c18d-21d233f8cc25"
      },
      "source": [
        "texts_train = preprocess_text(df_train.articleBody.values)"
      ],
      "execution_count": null,
      "outputs": [
        {
          "output_type": "stream",
          "text": [
            "text preprocessing:  52%|█████▏    | 19080/36949 [03:00<02:48, 105.99it/s]\n",
            "text preprocessing:   5%|▍         | 1810/36949 [01:10<22:52, 25.60it/s] \n",
            "text preprocessing: 100%|██████████| 36949/36949 [00:57<00:00, 643.75it/s]\n"
          ],
          "name": "stderr"
        }
      ]
    },
    {
      "cell_type": "code",
      "metadata": {
        "colab": {
          "base_uri": "https://localhost:8080/"
        },
        "id": "0fMfpDuYzYeO",
        "outputId": "30fcebc7-26d5-4f70-cfef-12efb583bdb9"
      },
      "source": [
        "texts_test = preprocess_text(df_test.articleBody.values)"
      ],
      "execution_count": null,
      "outputs": [
        {
          "output_type": "stream",
          "text": [
            "text preprocessing: 100%|██████████| 9238/9238 [00:15<00:00, 612.43it/s]\n"
          ],
          "name": "stderr"
        }
      ]
    },
    {
      "cell_type": "code",
      "metadata": {
        "id": "20nte9ZDzYeP"
      },
      "source": [
        "vocab_file = 'data/vocab.txt'"
      ],
      "execution_count": null,
      "outputs": []
    },
    {
      "cell_type": "code",
      "metadata": {
        "colab": {
          "base_uri": "https://localhost:8080/"
        },
        "id": "sGWY0rFaEQfb",
        "outputId": "b063c533-daaa-42f0-dcb9-d291f9b3a4d0"
      },
      "source": [
        "vocab_cls = Vocab(texts_train).save(vocab_file)"
      ],
      "execution_count": null,
      "outputs": [
        {
          "output_type": "stream",
          "text": [
            "creating vocab: 100%|██████████| 36873/36873 [00:03<00:00, 10598.47it/s]\n",
            "to file: 100%|██████████| 50000/50000 [00:00<00:00, 1143647.41it/s]\n"
          ],
          "name": "stderr"
        }
      ]
    },
    {
      "cell_type": "code",
      "metadata": {
        "scrolled": true,
        "id": "JHUlDPpvzYeP"
      },
      "source": [
        "word2id = vocab_cls.w2id\n",
        "id2word = vocab_cls.id2w\n",
        "vocab = vocab_cls.sorted_word_counts\n",
        "word2freq = vocab_cls.word2freq"
      ],
      "execution_count": null,
      "outputs": []
    },
    {
      "cell_type": "markdown",
      "metadata": {
        "id": "WEYfN3WwzYeQ"
      },
      "source": [
        "No significant differences with and without <'num'> token"
      ]
    },
    {
      "cell_type": "code",
      "metadata": {
        "scrolled": true,
        "id": "ZTtNwcfEzYeQ"
      },
      "source": [
        "indexed_texts = vocab_cls.texts_to_ids(texts_train)"
      ],
      "execution_count": null,
      "outputs": []
    },
    {
      "cell_type": "code",
      "metadata": {
        "id": "aO6rQGrzzYeQ"
      },
      "source": [
        "indexed_test = vocab_cls.texts_to_ids(texts_test)"
      ],
      "execution_count": null,
      "outputs": []
    },
    {
      "cell_type": "code",
      "metadata": {
        "colab": {
          "base_uri": "https://localhost:8080/"
        },
        "id": "KUsGErWmFuyL",
        "outputId": "44efb5f7-4bba-402a-8e20-8c8f4efcd970"
      },
      "source": [
        "list(df.label.unique())"
      ],
      "execution_count": null,
      "outputs": [
        {
          "output_type": "execute_result",
          "data": {
            "text/plain": [
              "['sports', 'tech', 'politics', 'health', 'entertainment', 'food', 'criminal']"
            ]
          },
          "metadata": {
            "tags": []
          },
          "execution_count": 94
        }
      ]
    },
    {
      "cell_type": "code",
      "metadata": {
        "id": "DYGdoNuvzYeQ"
      },
      "source": [
        "labels = df.label.values"
      ],
      "execution_count": null,
      "outputs": []
    },
    {
      "cell_type": "code",
      "metadata": {
        "id": "ylEWlX5fzYeQ"
      },
      "source": [
        "cls2id = {'sports':1,'tech':2,'politics':3,'health':4,'entertainment':5,'food':6,'criminal':7}"
      ],
      "execution_count": null,
      "outputs": []
    },
    {
      "cell_type": "code",
      "metadata": {
        "id": "w6Ex9fCjzYeR"
      },
      "source": [
        "train_labels = df_train.label.map(cls2id)\n",
        "test_labels = df_test.label.map(cls2id)"
      ],
      "execution_count": null,
      "outputs": []
    },
    {
      "cell_type": "code",
      "metadata": {
        "id": "Q22mwyiPzYeR"
      },
      "source": [
        "id2word_corpora = corpora.Dictionary(texts_train, prune_at=10000)\n",
        "corpus = [id2word_corpora.doc2bow(text) for text in texts_train]"
      ],
      "execution_count": null,
      "outputs": []
    },
    {
      "cell_type": "code",
      "metadata": {
        "id": "Hr_mo-NSzYeR"
      },
      "source": [
        "corpus_test = [id2word_corpora.doc2bow(text) for text in texts_test]"
      ],
      "execution_count": null,
      "outputs": []
    },
    {
      "cell_type": "code",
      "metadata": {
        "id": "hqFkq3Ymo_vj"
      },
      "source": [
        "def preprocess_text(texts):\n",
        "    heb_tokenizer = HebTokenizer()\n",
        "\n",
        "    result = []\n",
        "    for line in tqdm(texts, desc=\"text preprocessing\"):\n",
        "        tokens = heb_tokenizer.get_words(preprocessing(line.lower()))\n",
        "        # if len(tokens) == 0:\n",
        "        #     continue\n",
        "        result.append(tokens)\n",
        "\n",
        "    return result"
      ],
      "execution_count": null,
      "outputs": []
    },
    {
      "cell_type": "code",
      "metadata": {
        "colab": {
          "base_uri": "https://localhost:8080/",
          "height": 66,
          "referenced_widgets": [
            "0e8dfd5ef1904221aae6994617b7b783",
            "8e1e4c65c37647c18c13adc2f3d9e045",
            "d95662057c5d4bcfa6793d917cc013da",
            "b3d8c35f5c5345b9b9ba336fdc9a785d",
            "0c894894c3c14dccbc36cb1a2cf305b2",
            "d52dd296f1d8493595092476f6463b24",
            "80ba34d26d854cd5ae082a5df0331255",
            "f67fce4c7d9948b88e5b7d22a465b5aa"
          ]
        },
        "id": "38XgL8ddlhDO",
        "outputId": "ecdff337-288e-4a93-9092-985069c03da1"
      },
      "source": [
        " corpus_df = [id2word_corpora.doc2bow(text) for text in preprocess_text(df.articleBody.values)]"
      ],
      "execution_count": null,
      "outputs": [
        {
          "output_type": "display_data",
          "data": {
            "application/vnd.jupyter.widget-view+json": {
              "model_id": "0e8dfd5ef1904221aae6994617b7b783",
              "version_minor": 0,
              "version_major": 2
            },
            "text/plain": [
              "HBox(children=(FloatProgress(value=0.0, description='text preprocessing', max=46187.0, style=ProgressStyle(des…"
            ]
          },
          "metadata": {
            "tags": []
          }
        },
        {
          "output_type": "stream",
          "text": [
            "\n"
          ],
          "name": "stdout"
        }
      ]
    },
    {
      "cell_type": "code",
      "metadata": {
        "colab": {
          "base_uri": "https://localhost:8080/"
        },
        "id": "BAGi-nBCnwCg",
        "outputId": "1c28618d-fa64-4055-b09e-595909a79cbe"
      },
      "source": [
        "len(corpus_df)"
      ],
      "execution_count": null,
      "outputs": [
        {
          "output_type": "execute_result",
          "data": {
            "text/plain": [
              "46187"
            ]
          },
          "metadata": {
            "tags": []
          },
          "execution_count": 167
        }
      ]
    },
    {
      "cell_type": "markdown",
      "metadata": {
        "id": "jEQymrwFzYeR"
      },
      "source": [
        "# LDA model"
      ]
    },
    {
      "cell_type": "code",
      "metadata": {
        "id": "8K_UgoKIzYeR"
      },
      "source": [
        "from gensim.models import LdaModel, LdaMulticore\n",
        "from pprint import pprint"
      ],
      "execution_count": null,
      "outputs": []
    },
    {
      "cell_type": "code",
      "metadata": {
        "id": "d_nYObQZzYeS"
      },
      "source": [
        "model_lda = LdaMulticore(corpus=corpus,\n",
        "                            id2word=id2word_corpora,\n",
        "                            workers=4,\n",
        "                            num_topics=20,\n",
        "                            random_state=42,\n",
        "                            chunksize=100,\n",
        "                            passes=15,\n",
        "                            alpha=0.04,\n",
        "                            eta=0.1,\n",
        "                            iterations=2000,\n",
        "                            per_word_topics=True,)"
      ],
      "execution_count": null,
      "outputs": []
    },
    {
      "cell_type": "code",
      "metadata": {
        "id": "-uVjk3YJtIj9"
      },
      "source": [
        "model_lda4 = LdaMulticore(corpus=corpus,\n",
        "                            id2word=id2word_corpora,\n",
        "                            workers=4,\n",
        "                            num_topics=25,\n",
        "                            random_state=42,\n",
        "                            chunksize=100,\n",
        "                            passes=15,\n",
        "                            alpha=0.04,\n",
        "                            eta=0.1,\n",
        "                            iterations=2000,\n",
        "                            per_word_topics=True,)"
      ],
      "execution_count": null,
      "outputs": []
    },
    {
      "cell_type": "code",
      "metadata": {
        "id": "yZ6wmRpjtNSb"
      },
      "source": [
        "history = []\n",
        "\n",
        "for num_t in [8,20,25]:\n",
        "  for al in [0.05, 0.08, 0.1]:\n",
        "      model = LdaMulticore(corpus=corpus,\n",
        "                                id2word=id2word_corpora,\n",
        "                                workers=5,\n",
        "                                num_topics=num_t,\n",
        "                                random_state=42,\n",
        "                                chunksize=100,\n",
        "                                passes=15,\n",
        "                                alpha=al,\n",
        "                                eta=0.1,\n",
        "                                iterations=1000,\n",
        "                                per_word_topics=True,)\n",
        "      coherence_model_lda = CoherenceModel(model=model, texts=texts_test, dictionary=id2word_corpora, coherence='c_v')\n",
        "      coherence_lda = coherence_model_lda.get_coherence()\n",
        "      history.append({\"num_topics\":num_t, \"coherence_lda\":coherence_lda, \"alpha\":al})"
      ],
      "execution_count": null,
      "outputs": []
    },
    {
      "cell_type": "code",
      "metadata": {
        "id": "oYPnQH4zOUZj",
        "colab": {
          "base_uri": "https://localhost:8080/"
        },
        "outputId": "00c22df9-1554-42b3-e119-ab290ce41e9a"
      },
      "source": [
        "history"
      ],
      "execution_count": null,
      "outputs": [
        {
          "output_type": "execute_result",
          "data": {
            "text/plain": [
              "[{'alpha': 0.05, 'coherence_lda': 0.4831173653687284, 'num_topics': 8},\n",
              " {'alpha': 0.08, 'coherence_lda': 0.4918668494628131, 'num_topics': 8},\n",
              " {'alpha': 0.1, 'coherence_lda': 0.484270345447888, 'num_topics': 8},\n",
              " {'alpha': 0.05, 'coherence_lda': 0.5601525438301194, 'num_topics': 20},\n",
              " {'alpha': 0.08, 'coherence_lda': 0.5586349511365969, 'num_topics': 20},\n",
              " {'alpha': 0.1, 'coherence_lda': 0.5531695097479302, 'num_topics': 20},\n",
              " {'alpha': 0.05, 'coherence_lda': 0.584669378651952, 'num_topics': 25},\n",
              " {'alpha': 0.08, 'coherence_lda': 0.5788300094961877, 'num_topics': 25},\n",
              " {'alpha': 0.1, 'coherence_lda': 0.5924430213821378, 'num_topics': 25}]"
            ]
          },
          "metadata": {
            "tags": []
          },
          "execution_count": 323
        }
      ]
    },
    {
      "cell_type": "code",
      "metadata": {
        "id": "DdnwodvVOV4n"
      },
      "source": [
        "input()"
      ],
      "execution_count": null,
      "outputs": []
    },
    {
      "cell_type": "code",
      "metadata": {
        "id": "wia8M9speo3j"
      },
      "source": [
        "import requests\n",
        "\n",
        "headers = dict()\n",
        "headers[\"Accept\"] =\"*/*\"\n",
        "headers[\"Host\"] = \"clients5.google.com\"\n",
        "headers[\"Connection\"] =  \"keep-alive\"\n",
        "headers[\"Upgrade-Insecure-Requests\"] = \"1\"\n",
        "headers[\"User-Agent\"] = \"Mozilla/5.0 (X11; Linux x86_64) AppleWebKit/537.36 (KHTML, like Gecko) Chrome/83.0.4103.106 Safari/537.36\"\n",
        "headers[\"Content-Encoding\"] = \"gzip\"\n",
        "headers[\"Accept-Language\"] = \"en-US,en;q=0.9,ru;q=0.8,he;q=0.7\"\n",
        "headers[\"Content-Type\"] = \"application/json; charset=UTF-8\"\n",
        "\n",
        "def translate_text(text, lang='en'):\n",
        "    url = f\"https://clients5.google.com/translate_a/t?client=dict-chrome-ex&sl=auto&tl={lang}&q={text}\"\n",
        "    response = requests.get(url, verify=True, headers=headers)\n",
        "    response.encoding = response.apparent_encoding\n",
        "    json = response.json()\n",
        "    try:\n",
        "        return \"\\n\".join(map(lambda p: p['trans'], json['sentences']))\n",
        "    except:\n",
        "        pass\n",
        "    return text"
      ],
      "execution_count": null,
      "outputs": []
    },
    {
      "cell_type": "code",
      "metadata": {
        "colab": {
          "base_uri": "https://localhost:8080/"
        },
        "id": "FtHPiHIKfNuX",
        "outputId": "637f0890-cfd5-4f1d-f0e6-c550001192d3"
      },
      "source": [
        "cls2id"
      ],
      "execution_count": null,
      "outputs": [
        {
          "output_type": "execute_result",
          "data": {
            "text/plain": [
              "{'criminal': 7,\n",
              " 'entertainment': 5,\n",
              " 'food': 6,\n",
              " 'health': 4,\n",
              " 'politics': 3,\n",
              " 'sports': 1,\n",
              " 'tech': 2}"
            ]
          },
          "metadata": {
            "tags": []
          },
          "execution_count": 113
        }
      ]
    },
    {
      "cell_type": "code",
      "metadata": {
        "colab": {
          "base_uri": "https://localhost:8080/"
        },
        "id": "O4kGsFC1fmFV",
        "outputId": "0b0a6a79-02e5-467a-b427-111362d82953"
      },
      "source": [
        "model_lda.log_perplexity"
      ],
      "execution_count": null,
      "outputs": [
        {
          "output_type": "execute_result",
          "data": {
            "text/plain": [
              "<bound method LdaModel.log_perplexity of <gensim.models.ldamulticore.LdaMulticore object at 0x7f954e729a90>>"
            ]
          },
          "metadata": {
            "tags": []
          },
          "execution_count": 115
        }
      ]
    },
    {
      "cell_type": "code",
      "metadata": {
        "colab": {
          "base_uri": "https://localhost:8080/"
        },
        "id": "D-0Jt335fddR",
        "outputId": "7d9d516b-76db-42e6-b3a7-b9b4b59735c9"
      },
      "source": [
        "df.label_new.unique()"
      ],
      "execution_count": null,
      "outputs": [
        {
          "output_type": "execute_result",
          "data": {
            "text/plain": [
              "array(['sports', 'tech', 'politics', 'health', 'entertainment', 'food',\n",
              "       'criminal'], dtype=object)"
            ]
          },
          "metadata": {
            "tags": []
          },
          "execution_count": 114
        }
      ]
    },
    {
      "cell_type": "code",
      "metadata": {
        "id": "Q_yx008qgMml"
      },
      "source": [
        "p = []\n",
        "for v in corpus_df:\n",
        "  dist = model_lda.get_document_topics(v)\n",
        "  m = np.array(list(map(lambda t:t[1], dist))).max()\n",
        "  p.append(claster_map_lda[list(filter(lambda t: np.isclose(t[1], m), dist))[0][0]])"
      ],
      "execution_count": null,
      "outputs": []
    },
    {
      "cell_type": "code",
      "metadata": {
        "id": "rpK0gIYDqbHQ"
      },
      "source": [
        "train_vecs = []\n",
        "for i in range(len(corpus_df)):\n",
        "    top_topics = model_lda.get_document_topics(corpus_df[i], minimum_probability=0.0)\n",
        "    topic_vec = [top_topics[i][1] for i in range(20)]\n",
        "    # topic_vec.extend([rev_train.iloc[i].real_counts]) # counts of reviews for restaurant\n",
        "    # topic_vec.extend([len(rev_train.iloc[i].text)]) # length review\n",
        "    train_vecs.append(topic_vec)"
      ],
      "execution_count": null,
      "outputs": []
    },
    {
      "cell_type": "code",
      "metadata": {
        "id": "-WR0XBr3rwuQ"
      },
      "source": [
        "X = np.array(train_vecs)\n",
        "y = df.label.map(cls2id).values"
      ],
      "execution_count": null,
      "outputs": []
    },
    {
      "cell_type": "code",
      "metadata": {
        "id": "yH2AJs_NsqNG"
      },
      "source": [
        "X_train, X_test, y_train, y_test = train_test_split(X, y, test_size=0.2)"
      ],
      "execution_count": null,
      "outputs": []
    },
    {
      "cell_type": "code",
      "metadata": {
        "id": "-cjigerA16po"
      },
      "source": [
        "X_train, X_test, y_train, y_test = train_test_split(XXX, y, test_size=0.2)"
      ],
      "execution_count": null,
      "outputs": []
    },
    {
      "cell_type": "code",
      "metadata": {
        "id": "8X1oevlDsB37"
      },
      "source": [
        "from sklearn.ensemble import RandomForestClassifier"
      ],
      "execution_count": null,
      "outputs": []
    },
    {
      "cell_type": "code",
      "metadata": {
        "id": "R9YeqcwLsFgz"
      },
      "source": [
        "cls = RandomForestClassifier().fit(X_train, y_train)"
      ],
      "execution_count": null,
      "outputs": []
    },
    {
      "cell_type": "code",
      "metadata": {
        "id": "E5Ll9N9us-XK"
      },
      "source": [
        "y_pred = cls.predict(X_test)"
      ],
      "execution_count": null,
      "outputs": []
    },
    {
      "cell_type": "code",
      "metadata": {
        "colab": {
          "base_uri": "https://localhost:8080/"
        },
        "id": "P8b1-NEktBuj",
        "outputId": "54bd5976-2fb7-4ed6-af47-474e542eadda"
      },
      "source": [
        "print(classification_report(y_test, y_pred))"
      ],
      "execution_count": null,
      "outputs": [
        {
          "output_type": "stream",
          "text": [
            "              precision    recall  f1-score   support\n",
            "\n",
            "           1       0.77      0.52      0.62        92\n",
            "           2       0.93      0.93      0.93      3885\n",
            "           3       0.81      0.83      0.82      1763\n",
            "           4       0.85      0.89      0.87      2877\n",
            "           5       0.89      0.79      0.84       430\n",
            "           6       0.88      0.78      0.83        46\n",
            "           7       0.80      0.30      0.43       145\n",
            "\n",
            "    accuracy                           0.88      9238\n",
            "   macro avg       0.85      0.72      0.76      9238\n",
            "weighted avg       0.88      0.88      0.88      9238\n",
            "\n"
          ],
          "name": "stdout"
        }
      ]
    },
    {
      "cell_type": "code",
      "metadata": {
        "id": "ll7nu5uf19mV"
      },
      "source": [
        "cls = RandomForestClassifier().fit(X_train, y_train)"
      ],
      "execution_count": null,
      "outputs": []
    },
    {
      "cell_type": "code",
      "metadata": {
        "id": "kXL0tfSk198h"
      },
      "source": [
        "y_pred = cls.predict(X_test)"
      ],
      "execution_count": null,
      "outputs": []
    },
    {
      "cell_type": "code",
      "metadata": {
        "colab": {
          "base_uri": "https://localhost:8080/"
        },
        "id": "RC_iRNWl1_jO",
        "outputId": "357072ec-5954-4dfb-a749-abf7cd8ba5a1"
      },
      "source": [
        "print(classification_report(y_test, y_pred))"
      ],
      "execution_count": null,
      "outputs": [
        {
          "output_type": "stream",
          "text": [
            "              precision    recall  f1-score   support\n",
            "\n",
            "           1       0.90      0.48      0.63       118\n",
            "           2       0.92      0.95      0.93      3857\n",
            "           3       0.87      0.84      0.85      1771\n",
            "           4       0.86      0.91      0.89      2825\n",
            "           5       0.94      0.82      0.88       474\n",
            "           6       0.87      0.68      0.76        57\n",
            "           7       0.93      0.58      0.71       136\n",
            "\n",
            "    accuracy                           0.89      9238\n",
            "   macro avg       0.90      0.75      0.81      9238\n",
            "weighted avg       0.90      0.89      0.89      9238\n",
            "\n"
          ],
          "name": "stdout"
        }
      ]
    },
    {
      "cell_type": "code",
      "metadata": {
        "id": "_ucUFCJ828Je"
      },
      "source": [
        "X_train, X_test, y_train, y_test = train_test_split(X_fasttext, y, test_size=0.2)"
      ],
      "execution_count": null,
      "outputs": []
    },
    {
      "cell_type": "code",
      "metadata": {
        "id": "jUZ3GrFe23bZ"
      },
      "source": [
        "cls = RandomForestClassifier().fit(X_train, y_train)"
      ],
      "execution_count": null,
      "outputs": []
    },
    {
      "cell_type": "code",
      "metadata": {
        "id": "iBn4YdSz3CDX"
      },
      "source": [
        "y_pred = cls.predict(X_test)"
      ],
      "execution_count": null,
      "outputs": []
    },
    {
      "cell_type": "code",
      "metadata": {
        "colab": {
          "base_uri": "https://localhost:8080/"
        },
        "id": "wjHvT4FJ3ChI",
        "outputId": "daf585ef-0720-4d60-9388-66ea6450de26"
      },
      "source": [
        "print(classification_report(y_test, y_pred))"
      ],
      "execution_count": null,
      "outputs": [
        {
          "output_type": "stream",
          "text": [
            "              precision    recall  f1-score   support\n",
            "\n",
            "           1       0.86      0.49      0.62       100\n",
            "           2       0.93      0.93      0.93      3899\n",
            "           3       0.85      0.82      0.84      1751\n",
            "           4       0.85      0.91      0.88      2870\n",
            "           5       0.94      0.82      0.88       445\n",
            "           6       0.88      0.80      0.84        56\n",
            "           7       0.86      0.46      0.60       117\n",
            "\n",
            "    accuracy                           0.89      9238\n",
            "   macro avg       0.88      0.75      0.80      9238\n",
            "weighted avg       0.89      0.89      0.89      9238\n",
            "\n"
          ],
          "name": "stdout"
        }
      ]
    },
    {
      "cell_type": "code",
      "metadata": {
        "colab": {
          "base_uri": "https://localhost:8080/"
        },
        "id": "ChY-VAaPbZPx",
        "outputId": "fd33334d-0880-4f73-fdce-13cbbfc57af3"
      },
      "source": [
        "from gensim.models import CoherenceModel\n",
        "\n",
        "coherence_model_lda = CoherenceModel(model=model_lda, texts=texts_train, dictionary=id2word_corpora, coherence='c_v')\n",
        "coherence_lda = coherence_model_lda.get_coherence()\n",
        "print('\\nCoherence Score: ', coherence_lda)"
      ],
      "execution_count": null,
      "outputs": [
        {
          "output_type": "stream",
          "text": [
            "\n",
            "Coherence Score:  0.5677295431070475\n"
          ],
          "name": "stdout"
        }
      ]
    },
    {
      "cell_type": "code",
      "metadata": {
        "colab": {
          "base_uri": "https://localhost:8080/"
        },
        "id": "tBHJoJQFsJmc",
        "outputId": "b70602da-77c1-400e-d974-8028b7994cf9"
      },
      "source": [
        "from gensim.models import CoherenceModel\n",
        "\n",
        "coherence_model_lda = CoherenceModel(model=model_lda, texts=texts_test, dictionary=id2word_corpora, coherence='c_v')\n",
        "coherence_lda = coherence_model_lda.get_coherence()\n",
        "print('\\nCoherence Score: ', coherence_lda)"
      ],
      "execution_count": null,
      "outputs": [
        {
          "output_type": "stream",
          "text": [
            "\n",
            "Coherence Score:  0.5544586584302917\n"
          ],
          "name": "stdout"
        }
      ]
    },
    {
      "cell_type": "code",
      "metadata": {
        "colab": {
          "base_uri": "https://localhost:8080/"
        },
        "id": "xfsVK7oysTOb",
        "outputId": "bb0f0e8b-728e-4e06-fd6d-972f1d5ca229"
      },
      "source": [
        "from gensim.models import CoherenceModel\n",
        "\n",
        "coherence_model_lda = CoherenceModel(model=model_lda2, texts=texts_test, dictionary=id2word_corpora, coherence='c_v')\n",
        "coherence_lda = coherence_model_lda.get_coherence()\n",
        "print('\\nCoherence Score: ', coherence_lda)"
      ],
      "execution_count": null,
      "outputs": [
        {
          "output_type": "stream",
          "text": [
            "\n",
            "Coherence Score:  0.5271926772934189\n"
          ],
          "name": "stdout"
        }
      ]
    },
    {
      "cell_type": "code",
      "metadata": {
        "colab": {
          "base_uri": "https://localhost:8080/"
        },
        "id": "AlV1drsvsUnb",
        "outputId": "531eccd6-c231-42df-d36a-7f77f22c9c86"
      },
      "source": [
        "from gensim.models import CoherenceModel\n",
        "\n",
        "coherence_model_lda = CoherenceModel(model=model_lda3, texts=texts_test, dictionary=id2word_corpora, coherence='c_v')\n",
        "coherence_lda = coherence_model_lda.get_coherence()\n",
        "print('\\nCoherence Score: ', coherence_lda)"
      ],
      "execution_count": null,
      "outputs": [
        {
          "output_type": "stream",
          "text": [
            "\n",
            "Coherence Score:  0.5454024858760793\n"
          ],
          "name": "stdout"
        }
      ]
    },
    {
      "cell_type": "code",
      "metadata": {
        "id": "sn3jlCOKsVi_"
      },
      "source": [
        ""
      ],
      "execution_count": null,
      "outputs": []
    },
    {
      "cell_type": "code",
      "metadata": {
        "id": "po8jZ0PvnrBF"
      },
      "source": [
        "!cp -r /content/huawei-nlpcourse-project /content/drive/MyDrive/hebert"
      ],
      "execution_count": null,
      "outputs": []
    },
    {
      "cell_type": "code",
      "metadata": {
        "id": "DJDCVE3gnVE4"
      },
      "source": [
        "!mkdir -p model_lda3"
      ],
      "execution_count": null,
      "outputs": []
    },
    {
      "cell_type": "code",
      "metadata": {
        "id": "m6T98Z2HneI1"
      },
      "source": [
        "model_lda3.save(\"model_lda3/lda\")"
      ],
      "execution_count": null,
      "outputs": []
    },
    {
      "cell_type": "code",
      "metadata": {
        "colab": {
          "base_uri": "https://localhost:8080/"
        },
        "id": "Xl1exCJsbvfH",
        "outputId": "ec334c39-148d-4721-d3bf-ae9c2ad427bc"
      },
      "source": [
        "from gensim.models import CoherenceModel\n",
        "\n",
        "coherence_model_lda = CoherenceModel(model=model_lda3, texts=corpus, dictionary=id2word_corpora, coherence='c_v')\n",
        "coherence_lda = coherence_model_lda.get_coherence()\n",
        "print('\\nCoherence Score: ', coherence_lda)"
      ],
      "execution_count": null,
      "outputs": [
        {
          "output_type": "stream",
          "text": [
            "/usr/local/lib/python3.6/dist-packages/gensim/topic_coherence/direct_confirmation_measure.py:193: RuntimeWarning: invalid value encountered in true_divide\n",
            "  numerator = (co_occur_count / num_docs) + EPSILON\n",
            "/usr/local/lib/python3.6/dist-packages/gensim/topic_coherence/direct_confirmation_measure.py:194: RuntimeWarning: invalid value encountered in true_divide\n",
            "  denominator = (w_prime_count / num_docs) * (w_star_count / num_docs)\n",
            "/usr/local/lib/python3.6/dist-packages/gensim/topic_coherence/direct_confirmation_measure.py:189: RuntimeWarning: invalid value encountered in true_divide\n",
            "  co_doc_prob = co_occur_count / num_docs\n"
          ],
          "name": "stderr"
        },
        {
          "output_type": "stream",
          "text": [
            "\n",
            "Coherence Score:  nan\n"
          ],
          "name": "stdout"
        }
      ]
    },
    {
      "cell_type": "code",
      "metadata": {
        "id": "tFGcgk1psFbM"
      },
      "source": [
        "from gensim.models import CoherenceModel\n",
        "\n",
        "coherence_model_lda = CoherenceModel(model=model_lda3, texts=corpus, dictionary=id2word_corpora, coherence='c_v')\n",
        "coherence_lda = coherence_model_lda.get_coherence()\n",
        "print('\\nCoherence Score: ', coherence_lda)"
      ],
      "execution_count": null,
      "outputs": []
    },
    {
      "cell_type": "code",
      "metadata": {
        "id": "vj12-Cxx-0Ul"
      },
      "source": [
        "l = np.array(df2.articleBody.str.count(\" \")+1)"
      ],
      "execution_count": null,
      "outputs": []
    },
    {
      "cell_type": "code",
      "metadata": {
        "colab": {
          "base_uri": "https://localhost:8080/",
          "height": 352
        },
        "id": "OtvrknF4QuYR",
        "outputId": "36b7fc28-9120-4943-db19-a531f97f9379"
      },
      "source": [
        "df.sample(2)"
      ],
      "execution_count": null,
      "outputs": [
        {
          "output_type": "execute_result",
          "data": {
            "text/html": [
              "<div>\n",
              "<style scoped>\n",
              "    .dataframe tbody tr th:only-of-type {\n",
              "        vertical-align: middle;\n",
              "    }\n",
              "\n",
              "    .dataframe tbody tr th {\n",
              "        vertical-align: top;\n",
              "    }\n",
              "\n",
              "    .dataframe thead th {\n",
              "        text-align: right;\n",
              "    }\n",
              "</style>\n",
              "<table border=\"1\" class=\"dataframe\">\n",
              "  <thead>\n",
              "    <tr style=\"text-align: right;\">\n",
              "      <th></th>\n",
              "      <th>Unnamed: 0</th>\n",
              "      <th>articleBody</th>\n",
              "      <th>description</th>\n",
              "      <th>headline</th>\n",
              "      <th>keywords</th>\n",
              "      <th>title</th>\n",
              "      <th>type</th>\n",
              "      <th>category</th>\n",
              "      <th>source</th>\n",
              "      <th>title_eng</th>\n",
              "      <th>articleBodyLen</th>\n",
              "      <th>datePublished</th>\n",
              "      <th>subtitle</th>\n",
              "      <th>description_eng</th>\n",
              "      <th>label_zero_shot</th>\n",
              "      <th>label_finetuned</th>\n",
              "      <th>label</th>\n",
              "      <th>label_new</th>\n",
              "      <th>row_num</th>\n",
              "    </tr>\n",
              "  </thead>\n",
              "  <tbody>\n",
              "    <tr>\n",
              "      <th>91227</th>\n",
              "      <td>91227</td>\n",
              "      <td>אין רשומות לתצוגה\\nיום חמישי, 10/4/14, 23:36\\n...</td>\n",
              "      <td>צביקה נדלר</td>\n",
              "      <td>צביקה נדלר</td>\n",
              "      <td>אוכל ויין, אינטרנט ומחשבים, מוסיקה, ספורט, עיצ...</td>\n",
              "      <td>צביקה נדלר</td>\n",
              "      <td>other</td>\n",
              "      <td>entertainment</td>\n",
              "      <td>themarker</td>\n",
              "      <td>Zvika Nadler</td>\n",
              "      <td>NaN</td>\n",
              "      <td>NaN</td>\n",
              "      <td>NaN</td>\n",
              "      <td>NaN</td>\n",
              "      <td>NaN</td>\n",
              "      <td>health</td>\n",
              "      <td>entertainment</td>\n",
              "      <td>entertainment</td>\n",
              "      <td>91227</td>\n",
              "    </tr>\n",
              "    <tr>\n",
              "      <th>30892</th>\n",
              "      <td>30892</td>\n",
              "      <td>לפחות 40 בני אדם נהרגו, בהם 11 ילדים, בפיצוץ ב...</td>\n",
              "      <td>הארגון הסורי לזכויות אדם דיווח כי שישה לוחמים ...</td>\n",
              "      <td>סוריה: יותר מ-40 הרוגים בפיצוץ משאית תופת סמוך...</td>\n",
              "      <td>['טורקיה', 'סוריה', 'מטען חבלה', 'פיצוץ', 'אפר...</td>\n",
              "      <td>סוריה: יותר מ-40 הרוגים בפיצוץ משאית תופת סמוך...</td>\n",
              "      <td>article</td>\n",
              "      <td>politics</td>\n",
              "      <td>3</td>\n",
              "      <td>Syria: More than 40 people killed in a car bom...</td>\n",
              "      <td>431.0</td>\n",
              "      <td>NaN</td>\n",
              "      <td>NaN</td>\n",
              "      <td>The Syrian Observatory for Human Rights report...</td>\n",
              "      <td>politics</td>\n",
              "      <td>politics</td>\n",
              "      <td>politics</td>\n",
              "      <td>politics</td>\n",
              "      <td>30892</td>\n",
              "    </tr>\n",
              "  </tbody>\n",
              "</table>\n",
              "</div>"
            ],
            "text/plain": [
              "       Unnamed: 0  ... row_num\n",
              "91227       91227  ...   91227\n",
              "30892       30892  ...   30892\n",
              "\n",
              "[2 rows x 19 columns]"
            ]
          },
          "metadata": {
            "tags": []
          },
          "execution_count": 274
        }
      ]
    },
    {
      "cell_type": "markdown",
      "metadata": {
        "id": "ZLNBMMMQ_1-n"
      },
      "source": [
        "$U ∈ \\mathbb{R}^{m×d_{BERT}}$ "
      ]
    },
    {
      "cell_type": "code",
      "metadata": {
        "id": "fseNeSN93xN6"
      },
      "source": [
        "X_train, X_test, y_train, y_test = train_test_split(X_labse, y, test_size=0.2)"
      ],
      "execution_count": null,
      "outputs": []
    },
    {
      "cell_type": "code",
      "metadata": {
        "id": "_tN6foHk3y90"
      },
      "source": [
        "cls = RandomForestClassifier().fit(X_train, y_train)"
      ],
      "execution_count": null,
      "outputs": []
    },
    {
      "cell_type": "code",
      "metadata": {
        "id": "zoXN1Jpy30aL"
      },
      "source": [
        "y_pred = cls.predict(X_test)"
      ],
      "execution_count": null,
      "outputs": []
    },
    {
      "cell_type": "code",
      "metadata": {
        "colab": {
          "base_uri": "https://localhost:8080/"
        },
        "id": "8n5J38de310S",
        "outputId": "8a5abf42-aca5-4d4f-9e16-37faadc0a08d"
      },
      "source": [
        "print(classification_report(y_test, y_pred))"
      ],
      "execution_count": null,
      "outputs": [
        {
          "output_type": "stream",
          "text": [
            "              precision    recall  f1-score   support\n",
            "\n",
            "           1       0.86      0.12      0.21       100\n",
            "           2       0.90      0.94      0.92      3825\n",
            "           3       0.87      0.85      0.86      1757\n",
            "           4       0.86      0.91      0.88      2925\n",
            "           5       0.94      0.78      0.85       451\n",
            "           6       0.88      0.13      0.23        54\n",
            "           7       0.91      0.40      0.55       126\n",
            "\n",
            "    accuracy                           0.88      9238\n",
            "   macro avg       0.89      0.59      0.64      9238\n",
            "weighted avg       0.88      0.88      0.88      9238\n",
            "\n"
          ],
          "name": "stdout"
        }
      ]
    },
    {
      "cell_type": "code",
      "metadata": {
        "id": "6GsrPJfStT85"
      },
      "source": [
        "from utils.utils import from_h5"
      ],
      "execution_count": null,
      "outputs": []
    },
    {
      "cell_type": "code",
      "metadata": {
        "id": "DXrnXWMEn2g2"
      },
      "source": [
        "pd.DataFrame(emb[:10_000]).to_csv(\"v.tsv\", sep='\\t', index=False)"
      ],
      "execution_count": null,
      "outputs": []
    },
    {
      "cell_type": "code",
      "metadata": {
        "id": "zvRNtDf6oC_P"
      },
      "source": [
        "df_train[\"label\"][:10_000].to_csv(\"w.tsv\", sep='\\t', index=False)"
      ],
      "execution_count": null,
      "outputs": []
    },
    {
      "cell_type": "code",
      "metadata": {
        "colab": {
          "base_uri": "https://localhost:8080/",
          "height": 17
        },
        "id": "EZVvMUEFpFLt",
        "outputId": "17dd9eb3-403a-492f-b023-deda02082aeb"
      },
      "source": [
        "from google.colab import files\n",
        "\n",
        "files.download('v.tsv')"
      ],
      "execution_count": null,
      "outputs": [
        {
          "output_type": "display_data",
          "data": {
            "application/javascript": [
              "\n",
              "    async function download(id, filename, size) {\n",
              "      if (!google.colab.kernel.accessAllowed) {\n",
              "        return;\n",
              "      }\n",
              "      const div = document.createElement('div');\n",
              "      const label = document.createElement('label');\n",
              "      label.textContent = `Downloading \"${filename}\": `;\n",
              "      div.appendChild(label);\n",
              "      const progress = document.createElement('progress');\n",
              "      progress.max = size;\n",
              "      div.appendChild(progress);\n",
              "      document.body.appendChild(div);\n",
              "\n",
              "      const buffers = [];\n",
              "      let downloaded = 0;\n",
              "\n",
              "      const channel = await google.colab.kernel.comms.open(id);\n",
              "      // Send a message to notify the kernel that we're ready.\n",
              "      channel.send({})\n",
              "\n",
              "      for await (const message of channel.messages) {\n",
              "        // Send a message to notify the kernel that we're ready.\n",
              "        channel.send({})\n",
              "        if (message.buffers) {\n",
              "          for (const buffer of message.buffers) {\n",
              "            buffers.push(buffer);\n",
              "            downloaded += buffer.byteLength;\n",
              "            progress.value = downloaded;\n",
              "          }\n",
              "        }\n",
              "      }\n",
              "      const blob = new Blob(buffers, {type: 'application/binary'});\n",
              "      const a = document.createElement('a');\n",
              "      a.href = window.URL.createObjectURL(blob);\n",
              "      a.download = filename;\n",
              "      div.appendChild(a);\n",
              "      a.click();\n",
              "      div.remove();\n",
              "    }\n",
              "  "
            ],
            "text/plain": [
              "<IPython.core.display.Javascript object>"
            ]
          },
          "metadata": {
            "tags": []
          }
        },
        {
          "output_type": "display_data",
          "data": {
            "application/javascript": [
              "download(\"download_5c9c77ad-8d9a-4b77-8786-d606fe87033f\", \"v.tsv\", 37201332)"
            ],
            "text/plain": [
              "<IPython.core.display.Javascript object>"
            ]
          },
          "metadata": {
            "tags": []
          }
        }
      ]
    },
    {
      "cell_type": "code",
      "metadata": {
        "id": "YsPUn_outbYT"
      },
      "source": [
        "emb = from_h5(\"/content/drive/MyDrive/hebert/embeddings_summary.h5\")"
      ],
      "execution_count": null,
      "outputs": []
    },
    {
      "cell_type": "code",
      "metadata": {
        "id": "88Rk-Q-62hvk"
      },
      "source": [
        "emb_fasttext = from_h5(\"/content/drive/MyDrive/hebert/fasstext_text_mean.h5\")"
      ],
      "execution_count": null,
      "outputs": []
    },
    {
      "cell_type": "code",
      "metadata": {
        "id": "n4rEXl5R3hmZ"
      },
      "source": [
        "emb_labse = from_h5(\"/content/drive/MyDrive/hebert/desc_labse_embeddings.h5\")"
      ],
      "execution_count": null,
      "outputs": []
    },
    {
      "cell_type": "code",
      "metadata": {
        "id": "FjCpufic3mBh"
      },
      "source": [
        "emb_labse = emb_labse[df.row_num.values]"
      ],
      "execution_count": null,
      "outputs": []
    },
    {
      "cell_type": "code",
      "metadata": {
        "id": "paXojx9O2rFW"
      },
      "source": [
        "emb_fasttext = emb_fasttext[df.row_num.values]"
      ],
      "execution_count": null,
      "outputs": []
    },
    {
      "cell_type": "code",
      "metadata": {
        "id": "g2lV5V7Q2w3C"
      },
      "source": [
        "X_fasttext = np.hstack([X, emb_fasttext])"
      ],
      "execution_count": null,
      "outputs": []
    },
    {
      "cell_type": "code",
      "metadata": {
        "id": "i9CQFPPh3rsd"
      },
      "source": [
        "X_labse = np.hstack([X, emb_labse])"
      ],
      "execution_count": null,
      "outputs": []
    },
    {
      "cell_type": "code",
      "metadata": {
        "colab": {
          "base_uri": "https://localhost:8080/"
        },
        "id": "96pl0e6rtvHL",
        "outputId": "f8716e02-220f-4c76-b752-43f74907b4a3"
      },
      "source": [
        "len(emb)"
      ],
      "execution_count": null,
      "outputs": [
        {
          "output_type": "execute_result",
          "data": {
            "text/plain": [
              "164606"
            ]
          },
          "metadata": {
            "tags": []
          },
          "execution_count": 206
        }
      ]
    },
    {
      "cell_type": "code",
      "metadata": {
        "colab": {
          "base_uri": "https://localhost:8080/"
        },
        "id": "gQgV47mK1mCH",
        "outputId": "2d40ec0b-1397-42f5-cdd2-f8bf2ea8a03d"
      },
      "source": [
        "len(X)"
      ],
      "execution_count": null,
      "outputs": [
        {
          "output_type": "execute_result",
          "data": {
            "text/plain": [
              "46187"
            ]
          },
          "metadata": {
            "tags": []
          },
          "execution_count": 239
        }
      ]
    },
    {
      "cell_type": "code",
      "metadata": {
        "id": "yuqQEDyc1pKg"
      },
      "source": [
        "XX=emb[df.row_num.values]"
      ],
      "execution_count": null,
      "outputs": []
    },
    {
      "cell_type": "code",
      "metadata": {
        "id": "a-NhEIRg1wTV"
      },
      "source": [
        "XXX = np.hstack([X,XX])"
      ],
      "execution_count": null,
      "outputs": []
    },
    {
      "cell_type": "code",
      "metadata": {
        "id": "_0w84bQTuIpC"
      },
      "source": [
        "import hashlib\n",
        "\n",
        "text2ind = dict()\n",
        "\n",
        "for i, row in df2.iterrows():\n",
        "  text2ind[hashlib.sha1(row.articleBody.encode('utf-8')).hexdigest()] = i"
      ],
      "execution_count": null,
      "outputs": []
    },
    {
      "cell_type": "code",
      "metadata": {
        "id": "RWXbzx5_t8Ll"
      },
      "source": [
        "df = df[~df.label_new.isna()]"
      ],
      "execution_count": null,
      "outputs": []
    },
    {
      "cell_type": "code",
      "metadata": {
        "colab": {
          "base_uri": "https://localhost:8080/"
        },
        "id": "4AnWYYt6ko7X",
        "outputId": "c4976513-2723-452a-c51e-88b7c28f5ed5"
      },
      "source": [
        "len(corpus_test)+len(corpus)"
      ],
      "execution_count": null,
      "outputs": [
        {
          "output_type": "execute_result",
          "data": {
            "text/plain": [
              "46087"
            ]
          },
          "metadata": {
            "tags": []
          },
          "execution_count": 149
        }
      ]
    },
    {
      "cell_type": "code",
      "metadata": {
        "colab": {
          "base_uri": "https://localhost:8080/"
        },
        "id": "wHlKYP9Bjqj-",
        "outputId": "37a9c80f-d29e-4a72-efd0-5126ae637c68"
      },
      "source": [
        "model_lda.get_document_topics(corpus[87])"
      ],
      "execution_count": null,
      "outputs": [
        {
          "output_type": "execute_result",
          "data": {
            "text/plain": [
              "[(1, 0.10147892),\n",
              " (3, 0.043906517),\n",
              " (6, 0.74534076),\n",
              " (8, 0.030509664),\n",
              " (10, 0.011151256),\n",
              " (11, 0.016975366),\n",
              " (16, 0.048344757)]"
            ]
          },
          "metadata": {
            "tags": []
          },
          "execution_count": 135
        }
      ]
    },
    {
      "cell_type": "code",
      "metadata": {
        "id": "pnkhkc0CgJOj"
      },
      "source": [
        "train_vecs = []\n",
        "for i in range(len(rev_train)):\n",
        "    top_topics = lda_train.get_document_topics(train_corpus[i], minimum_probability=0.0)\n",
        "    topic_vec = [top_topics[i][1] for i in range(20)]\n",
        "    topic_vec.extend([rev_train.iloc[i].real_counts]) # counts of reviews for restaurant\n",
        "    topic_vec.extend([len(rev_train.iloc[i].text)]) # length review\n",
        "    train_vecs.append(topic_vec)"
      ],
      "execution_count": null,
      "outputs": []
    },
    {
      "cell_type": "code",
      "metadata": {
        "id": "7o07aICGfFFT"
      },
      "source": [
        "claster_map_lda = {0:'business', 1:'health', 2:'politics', 3:'entertainment', 4:'economics', 5:'health', \n",
        "                   6:'politics', 7:'politics', 8:'tech', 9:'food', 10:'health', 11:'economics', 12:'unk',\n",
        "                   13:'tech', 14:'economics', 15:'entertainment', 16:'unk', 17:'politics', 18:'unk', 19:'economics'}"
      ],
      "execution_count": null,
      "outputs": []
    },
    {
      "cell_type": "code",
      "metadata": {
        "id": "ryYcUH-hhSsR"
      },
      "source": [
        " Sports, Tech, Politics, Economics, Health, Criminal, Entertainment, Food, business"
      ],
      "execution_count": null,
      "outputs": []
    },
    {
      "cell_type": "code",
      "metadata": {
        "colab": {
          "base_uri": "https://localhost:8080/"
        },
        "id": "srtqqx6BzYeS",
        "outputId": "6a0756bd-7724-4a0c-8eb2-67846f063d54"
      },
      "source": [
        "pprint([translate_text(t) for t in model_lda.print_topics()])"
      ],
      "execution_count": null,
      "outputs": [
        {
          "output_type": "stream",
          "text": [
            "['(0, \\'0.015 * \"Work\" 0.013 * \"Work\" 0.010 * \"Experience\" 0.006 * \"Life\" '\n",
            " '0.004 * \"Find\" 0.004 * \"Develop\" 0.004 * \"Work\" 0.003 * \"Work\" 0.003 * '\n",
            " '\"Advantage\" 0.003 \\n'\n",
            " '* \"Jobs\")',\n",
            " '(1, \\'0.021 * \"Health\" 0.019 * \"Corona\" 0.014 * \"Patients\" 0.011 * \"Office\" '\n",
            " '0.008 * \"Today\" 0.007 * \"Patients\" 0.007 * \"Corona\" 0.005 * \"At home\" 0.005 '\n",
            " '* \"After\" 0.005 \\n'\n",
            " '*\"said\"\\')',\n",
            " '(2, \\'0.025 * \"Netanyahu\" 0.023 * \"Government\" 0.016 * \"Head\" 0.008 * '\n",
            " '\"White\" 0.008 * \"Ganz\" 0.007 * \"Benjamin\" 0.007 * \"Law\" 0.007 * \"Knesset\" '\n",
            " '0.007 * \"Today\" 0.007 \\n'\n",
            " '*\"Israel\"\\')',\n",
            " '(3, \\'0.011 * \"at home\" 0.010 * \"children\" 0.009 * \"school\" 0.008 * '\n",
            " '\"education\" 0.008 * \"home\" 0.007 * \"children\" 0.006 * \"son\" 0.005 * \"today\" '\n",
            " '0.005 * \"women\" 0.004 \\n'\n",
            " '*\"a girl\"\\')',\n",
            " '(4, \\'0.010 * \"million\" 0.009 * \"dollars\" 0.007 * \"company\" 0.007 * '\n",
            " '\"billion\" 0.007 * \"most\" 0.006 * \"this year\" 0.006 * \"times\" 0.004 * \"per '\n",
            " 'year\" 0.004 * \"last\" 0.004 \\n'\n",
            " '*\"already\"\\')',\n",
            " '(5, \\'0.006 * \"Treatment\" 0.005 * \"Treatment\" 0.005 * \"Researchers\" 0.005 * '\n",
            " '\"Vaccine\" 0.004 * \"Study\" 0.004 * \"Heart\" 0.004 * \"Tse\" 0.004 * \"Body\" 0.004 '\n",
            " '* \"Disease\" 0.003 \\n'\n",
            " '* \"Diseases\" \\')',\n",
            " '(6, \\'0.006 * \"Police\" 0.006 * \"Israel\" 0.005 * \"Rabbi\" 0.005 * \"Head\" 0.004 '\n",
            " '* \"One\" 0.004 * \"After\" 0.004 * \"Shabbat\" 0.004 * \"Lightning\" 0.004 * \"Not\" '\n",
            " '0.004 \\n'\n",
            " '* \"The public\" \\')',\n",
            " '(7, \\'0.019 * \"Trump\" 0.014 * \"Alliance\" 0.013 * \"Said\" 0.011 * \"Israel\" '\n",
            " '0.010 * \"United States\" 0.009 * \"President\" 0.007 * \"President\" 0.007 * \"To\" '\n",
            " '0.006 * \"Abbas\" 0.006 \\n'\n",
            " '* \"Hamas\" \\')',\n",
            " '(8, \\'0.010 * \"Google\" 0.008 * \"App\" 0.006 * \"Facebook\" 0.006 * \"Users\" '\n",
            " '0.006 * \"Microsoft\" 0.006 * \"Users\" 0.005 * \"You can\" 0.005 * \"Apps\" 0.005 * '\n",
            " '\"to\" 0.004 \\n'\n",
            " '* \"That you\" \\')',\n",
            " '(9, \\'0.012 * \"grams\" 0.012 * \"minutes\" 0.011 * \"home\" 0.011 * \"cup\" 0.009 * '\n",
            " '\"add\" 0.007 * \"oil\" 0.006 * \"tablespoons\" 0.006 * \"Ron\" 0.006 * \"teaspoon\" '\n",
            " '0.006 \\n'\n",
            " '*\"show\"\\')',\n",
            " '(10, \\'0.030 * \"Corona\" 0.029 * \"My son\" 0.028 * \"Man\" 0.022 * \"Immigrated\" '\n",
            " '0.020 * \"In the country\" 0.019 * \"Viral\" 0.019 * \"Number\" 0.017 * \"Health\" '\n",
            " '0.016 * \"Count\" 0.015 \\n'\n",
            " '* \"In a day\" \\')',\n",
            " '(11, \\'0.005 * \"by\" 0.003 * \"without\" 0.002 * \"by\" 0.002 * \"in Israel\" 0.002 '\n",
            " '* \"to\" 0.002 * \"Haaretz\" 0.002 * \"as part of\" 0.002 * \"transportation\" 0.002 '\n",
            " '* \"in addition to\" 0.002 \\n'\n",
            " '* \"Airport\")',\n",
            " '(12, \\'0.006 * \"to\" 0.005 * \"in the way\" 0.004 * \"this is\" 0.004 * \"can be\" '\n",
            " '0.004 * \"most\" 0.004 * \"but\" 0.004 * \"many\" 0.004 * \"Is\" 0.003 * \"one\" '\n",
            " '0.003 \\n'\n",
            " '*\"It is important\"\\')',\n",
            " '(13, \\'0.011 * \"Apple\" 0.010 * \"New device\" 0.007 * \"New\" 0.005 * \"Samsung\" '\n",
            " '0.005 * \"Device\" 0.005 * \"Screen\" 0.005 * \"Photo\" 0.004 * \"Already\" 0.004 * '\n",
            " '\"Screen\" 0.003 \\n'\n",
            " '* \"IPhone\" \\')',\n",
            " '(14, \\'0.013 * \"Companies\" 0.008 * \"In the field\" 0.008 * \"In Israel\" 0.006 '\n",
            " '* \"Employees\" 0.005 * \"Worldwide\" 0.004 * \"Company\" 0.004 * \"Company\" 0.003 '\n",
            " '* \"Companies\" 0.003 * \"Company\" 0.003 \\n'\n",
            " '*\"fortune\"\\')',\n",
            " '(15, \\'0.005 * \"Vehicle\" 0.004 * \"Game\" 0.004 * \"One\" 0.004 * \"Years\" 0.004 '\n",
            " '* \"Vehicle\" 0.004 * \"Game\" 0.003 * \"World\" 0.003 * \"World\" 0.003 * \"One\" '\n",
            " '0.002 \\n'\n",
            " '*\"in all\"\\')',\n",
            " '(16, \\'0.010 * \"this\" 0.010 * \"a lot\" 0.009 * \"one\" 0.008 * \"should\" 0.008 * '\n",
            " '\"do\" 0.007 * \"people\" 0.007 * \"not\" 0.007 * \"to\" 0.007 * \"some\" 0.007 \\n'\n",
            " '*\"that he\"\\')',\n",
            " '(17, \\'0.008 * \"said\" 0.008 * \"corona\" 0.008 * \"government\" 0.007 * \"Israel\" '\n",
            " '0.006 * \"minister\" 0.006 * \"state\" 0.005 * \"today\" 0.005 * \"finance\" 0.004 * '\n",
            " '\"office\" 0.004 \\n'\n",
            " '*\"crisis\"\\')',\n",
            " '(18, \\'0.034 * \"more\" 0.024 * \"day\" 0.019 * \"comments\" 0.016 * \"posts\" 0.011 '\n",
            " '* \"second\" 0.010 * \"viewsday\" 0.008 * \"friends\" 0.008 * \"first\" 0.007 * \"for '\n",
            " 'displayin\" 0.007 \\n'\n",
            " '*\"Third\"\\')',\n",
            " '(19, \\'0.030 * \"Company\" 0.013 * \"Dollar\" 0.012 * \"Million\" 0.008 * \"By\" '\n",
            " '0.007 * \"Company\" 0.006 * \"Information\" 0.005 * \"Recruitment\" 0.005 * '\n",
            " '\"System\" 0.005 * \"Israeli\" 0.005 \\n'\n",
            " '* \"Round\" \\')']\n"
          ],
          "name": "stdout"
        }
      ]
    },
    {
      "cell_type": "code",
      "metadata": {
        "id": "4l23675GJC6W"
      },
      "source": [
        "!mkdir -p lda"
      ],
      "execution_count": null,
      "outputs": []
    },
    {
      "cell_type": "code",
      "metadata": {
        "id": "yF7h_djozYeS"
      },
      "source": [
        "model_lda.save('lda/lda.dump')"
      ],
      "execution_count": null,
      "outputs": []
    },
    {
      "cell_type": "code",
      "metadata": {
        "id": "q-sOASUJQn-L"
      },
      "source": [
        "model_lda2 = LdaMulticore(corpus=corpus,\n",
        "                            id2word=id2word_corpora,\n",
        "                            workers=4,\n",
        "                            num_topics=12,\n",
        "                            random_state=42,\n",
        "                            chunksize=100,\n",
        "                            passes=15,\n",
        "                            alpha=0.06,\n",
        "                            eta=0.1,\n",
        "                            iterations=1000,\n",
        "                            per_word_topics=True,)"
      ],
      "execution_count": null,
      "outputs": []
    },
    {
      "cell_type": "code",
      "metadata": {
        "colab": {
          "base_uri": "https://localhost:8080/"
        },
        "id": "g4WKjpUEZpz_",
        "outputId": "576fd4d9-4f33-4d91-9fc8-a43638cfa274"
      },
      "source": [
        "pprint(model_lda2.print_topics())"
      ],
      "execution_count": null,
      "outputs": [
        {
          "output_type": "stream",
          "text": [
            "[(0,\n",
            "  '0.010*\"החברה\" + 0.006*\"ידי\" + 0.005*\"מידע\" + 0.004*\"כדי\" + 0.004*\"המערכת\" + '\n",
            "  '0.004*\"מערכת\" + 0.003*\"המידע\" + 0.003*\"גיוס\" + 0.003*\"באופן\" + '\n",
            "  '0.003*\"חברת\"'),\n",
            " (1,\n",
            "  '0.021*\"הקורונה\" + 0.017*\"הבריאות\" + 0.013*\"החולים\" + 0.011*\"היום\" + '\n",
            "  '0.011*\"בני\" + 0.010*\"אדם\" + 0.010*\"משרד\" + 0.009*\"חולים\" + 0.008*\"מספר\" + '\n",
            "  '0.007*\"בנגיף\"'),\n",
            " (2,\n",
            "  '0.021*\"הממשלה\" + 0.020*\"נתניהו\" + 0.014*\"ראש\" + 0.008*\"ישראל\" + '\n",
            "  '0.007*\"היום\" + 0.006*\"לבן\" + 0.006*\"גנץ\" + 0.006*\"בנימין\" + 0.006*\"יו\" + '\n",
            "  '0.006*\"הכנסת\"'),\n",
            " (3,\n",
            "  '0.007*\"אחד\" + 0.006*\"הזה\" + 0.005*\"הרבה\" + 0.005*\"שלא\" + 0.005*\"כמה\" + '\n",
            "  '0.004*\"צריך\" + 0.004*\"אנשים\" + 0.004*\"שהוא\" + 0.004*\"לעשות\" + 0.004*\"ולא\"'),\n",
            " (4,\n",
            "  '0.016*\"החברה\" + 0.012*\"דולר\" + 0.011*\"מיליון\" + 0.008*\"חברות\" + '\n",
            "  '0.006*\"חברת\" + 0.005*\"בישראל\" + 0.005*\"בעולם\" + 0.004*\"בתחום\" + '\n",
            "  '0.004*\"ביותר\" + 0.004*\"מיליארד\"'),\n",
            " (5,\n",
            "  '0.008*\"כדי\" + 0.007*\"חמאס\" + 0.006*\"ישראל\" + 0.005*\"הרש\" + 0.005*\"עזה\" + '\n",
            "  '0.004*\"הארץ\" + 0.004*\"צה\" + 0.004*\"האוויר\" + 0.003*\"הביטחון\" + '\n",
            "  '0.003*\"באזור\"'),\n",
            " (6,\n",
            "  '0.007*\"הקורונה\" + 0.006*\"יום\" + 0.005*\"ישראל\" + 0.005*\"החינוך\" + '\n",
            "  '0.004*\"ראש\" + 0.004*\"אמר\" + 0.004*\"משרד\" + 0.004*\"בית\" + 0.004*\"הציבור\" + '\n",
            "  '0.003*\"הרב\"'),\n",
            " (7,\n",
            "  '0.014*\"טראמפ\" + 0.013*\"אמר\" + 0.011*\"הברית\" + 0.008*\"ארצות\" + 0.007*\"הנשיא\" '\n",
            "  '+ 0.007*\"ישראל\" + 0.006*\"נשיא\" + 0.005*\"עבאס\" + 0.004*\"כדי\" + '\n",
            "  '0.004*\"מחמוד\"'),\n",
            " (8,\n",
            "  '0.008*\"עוד\" + 0.007*\"גוגל\" + 0.006*\"האפליקציה\" + 0.005*\"משתמשים\" + '\n",
            "  '0.005*\"כדי\" + 0.005*\"המשתמשים\" + 0.004*\"פייסבוק\" + 0.004*\"תוכלו\" + '\n",
            "  '0.004*\"אפליקציות\" + 0.003*\"תגובות\"'),\n",
            " (9,\n",
            "  '0.008*\"המשחק\" + 0.008*\"דקות\" + 0.008*\"בית\" + 0.007*\"משחק\" + 0.007*\"גרם\" + '\n",
            "  '0.006*\"משחקים\" + 0.005*\"כוס\" + 0.005*\"המשחקים\" + 0.005*\"שיאומי\" + '\n",
            "  '0.005*\"מוסיפים\"'),\n",
            " (10,\n",
            "  '0.011*\"אפל\" + 0.010*\"המכשיר\" + 0.007*\"החדש\" + 0.005*\"סמסונג\" + 0.005*\"כבר\" '\n",
            "  '+ 0.005*\"מכשיר\" + 0.005*\"מסך\" + 0.004*\"צילום\" + 0.004*\"ההפעלה\" + '\n",
            "  '0.003*\"מערכת\"'),\n",
            " (11,\n",
            "  '0.004*\"באופן\" + 0.004*\"לפי\" + 0.003*\"שקל\" + 0.003*\"ללא\" + 0.003*\"זו\" + '\n",
            "  '0.002*\"אלף\" + 0.002*\"כדי\" + 0.002*\"מדובר\" + 0.002*\"הרכב\" + 0.002*\"ניתן\"')]\n"
          ],
          "name": "stdout"
        }
      ]
    },
    {
      "cell_type": "code",
      "metadata": {
        "id": "xKnzBn6SQwv6"
      },
      "source": [
        "model_lda3 = LdaMulticore(corpus=corpus,\n",
        "                            id2word=id2word_corpora,\n",
        "                            workers=4,\n",
        "                            num_topics=15,\n",
        "                            random_state=42,\n",
        "                            chunksize=100,\n",
        "                            passes=15,\n",
        "                            alpha=0.05,\n",
        "                            eta=0.2,\n",
        "                            iterations=2000,\n",
        "                            per_word_topics=True,)"
      ],
      "execution_count": null,
      "outputs": []
    },
    {
      "cell_type": "code",
      "metadata": {
        "colab": {
          "base_uri": "https://localhost:8080/"
        },
        "id": "SH01bT2KZrrW",
        "outputId": "8396c974-2bb0-44f5-b99a-22066f04bcf8"
      },
      "source": [
        "pprint(model_lda3.print_topics())"
      ],
      "execution_count": null,
      "outputs": [
        {
          "output_type": "stream",
          "text": [
            "[(0,\n",
            "  '0.022*\"החברה\" + 0.009*\"מיליון\" + 0.008*\"דולר\" + 0.008*\"ידי\" + '\n",
            "  '0.006*\"המערכת\" + 0.006*\"גיוס\" + 0.005*\"חברת\" + 0.005*\"סבב\" + '\n",
            "  '0.005*\"הישראלית\" + 0.004*\"כדי\"'),\n",
            " (1,\n",
            "  '0.022*\"הקורונה\" + 0.020*\"הבריאות\" + 0.016*\"החולים\" + 0.011*\"בני\" + '\n",
            "  '0.010*\"אדם\" + 0.010*\"היום\" + 0.010*\"משרד\" + 0.010*\"חולים\" + 0.008*\"בנגיף\" + '\n",
            "  '0.008*\"מספר\"'),\n",
            " (2,\n",
            "  '0.020*\"הממשלה\" + 0.019*\"נתניהו\" + 0.012*\"ראש\" + 0.006*\"היום\" + '\n",
            "  '0.006*\"ישראל\" + 0.006*\"גנץ\" + 0.006*\"לבן\" + 0.006*\"הכנסת\" + 0.006*\"בנימין\" '\n",
            "  '+ 0.006*\"אמר\"'),\n",
            " (3,\n",
            "  '0.006*\"בן\" + 0.006*\"ילדים\" + 0.005*\"בבית\" + 0.005*\"נשים\" + 0.004*\"הילדים\" + '\n",
            "  '0.004*\"היום\" + 0.004*\"בת\" + 0.004*\"חיים\" + 0.003*\"בית\" + 0.003*\"אביב\"'),\n",
            " (4,\n",
            "  '0.013*\"החברה\" + 0.012*\"דולר\" + 0.012*\"מיליון\" + 0.009*\"חברות\" + '\n",
            "  '0.006*\"מיליארד\" + 0.005*\"בישראל\" + 0.005*\"חברת\" + 0.004*\"ביותר\" + '\n",
            "  '0.004*\"בעולם\" + 0.004*\"השנה\"'),\n",
            " (5,\n",
            "  '0.012*\"חמאס\" + 0.011*\"ישראל\" + 0.009*\"הרש\" + 0.008*\"עזה\" + 0.007*\"צה\" + '\n",
            "  '0.006*\"כדי\" + 0.006*\"הביטחון\" + 0.005*\"יום\" + 0.005*\"האוויר\" + 0.005*\"פת\"'),\n",
            " (6,\n",
            "  '0.005*\"ישראל\" + 0.005*\"החינוך\" + 0.005*\"ראש\" + 0.005*\"הקורונה\" + '\n",
            "  '0.004*\"הרב\" + 0.004*\"בית\" + 0.004*\"אמר\" + 0.004*\"העיר\" + 0.003*\"הספר\" + '\n",
            "  '0.003*\"יום\"'),\n",
            " (7,\n",
            "  '0.014*\"טראמפ\" + 0.012*\"אמר\" + 0.012*\"הברית\" + 0.008*\"ארצות\" + 0.007*\"הנשיא\" '\n",
            "  '+ 0.006*\"ישראל\" + 0.006*\"נשיא\" + 0.005*\"עבאס\" + 0.004*\"כדי\" + '\n",
            "  '0.004*\"מחמוד\"'),\n",
            " (8,\n",
            "  '0.010*\"עוד\" + 0.009*\"גוגל\" + 0.009*\"האפליקציה\" + 0.007*\"פייסבוק\" + '\n",
            "  '0.006*\"המשתמשים\" + 0.006*\"משתמשים\" + 0.005*\"תגובות\" + 0.005*\"תוכלו\" + '\n",
            "  '0.005*\"אפליקציות\" + 0.005*\"מיקרוסופט\"'),\n",
            " (9,\n",
            "  '0.007*\"דקות\" + 0.007*\"גרם\" + 0.006*\"כוס\" + 0.006*\"בית\" + 0.005*\"מוסיפים\" + '\n",
            "  '0.004*\"שמן\" + 0.004*\"כפות\" + 0.003*\"כפית\" + 0.003*\"עוד\" + 0.003*\"שחקנים\"'),\n",
            " (10,\n",
            "  '0.006*\"החוקרים\" + 0.006*\"המחקר\" + 0.005*\"הגוף\" + 0.005*\"לב\" + 0.004*\"דם\" + '\n",
            "  '0.004*\"מחקר\" + 0.003*\"הטיפול\" + 0.003*\"מחקרים\" + 0.003*\"לחץ\" + '\n",
            "  '0.003*\"ניתן\"'),\n",
            " (11,\n",
            "  '0.005*\"משרד\" + 0.004*\"הקורונה\" + 0.003*\"לפי\" + 0.003*\"באופן\" + '\n",
            "  '0.003*\"ישראל\" + 0.003*\"שקל\" + 0.003*\"כדי\" + 0.003*\"ללא\" + 0.002*\"האוצר\" + '\n",
            "  '0.002*\"בישראל\"'),\n",
            " (12,\n",
            "  '0.007*\"אחד\" + 0.006*\"כדי\" + 0.006*\"הזה\" + 0.005*\"הרבה\" + 0.005*\"כמה\" + '\n",
            "  '0.005*\"שלא\" + 0.004*\"כבר\" + 0.004*\"ולא\" + 0.004*\"שהוא\" + 0.004*\"לעשות\"'),\n",
            " (13,\n",
            "  '0.009*\"אפל\" + 0.007*\"המכשיר\" + 0.005*\"החדש\" + 0.005*\"החברה\" + 0.004*\"כבר\" + '\n",
            "  '0.004*\"סמסונג\" + 0.004*\"מכשיר\" + 0.003*\"מסך\" + 0.003*\"צילום\" + '\n",
            "  '0.003*\"מדובר\"'),\n",
            " (14,\n",
            "  '0.005*\"מידע\" + 0.005*\"החברה\" + 0.005*\"חברות\" + 0.004*\"בתחום\" + '\n",
            "  '0.004*\"עבודה\" + 0.004*\"המידע\" + 0.003*\"העבודה\" + 0.003*\"לקוחות\" + '\n",
            "  '0.003*\"עובדים\" + 0.003*\"ידי\"')]\n"
          ],
          "name": "stdout"
        }
      ]
    },
    {
      "cell_type": "code",
      "metadata": {
        "id": "hwXXC4vDzYeS"
      },
      "source": [
        "predicted_topics_per_doc = [lda_model_my.get_document_topics(text) for text in corpus_test]\n",
        "predicted_aspects_lda = [max(pair, key=lambda x:x[1])[0] for pair in  predicted_topics_per_doc]"
      ],
      "execution_count": null,
      "outputs": []
    },
    {
      "cell_type": "code",
      "metadata": {
        "id": "_NhtWOyxzYeS"
      },
      "source": [
        "claster_map_lda = {0:'Staff', 1:'Ambience', 2:'Miscellaneous', 3:'Miscellaneous', 4:'Food', 5:'Ambience', \n",
        "                   6:'Staff', 7:'Food', 8:'Food', 9:'Ambience', 10:'Food', 11:'Staff', 12:'Ambience',\n",
        "                   13:'Miscellaneous'}"
      ],
      "execution_count": null,
      "outputs": []
    },
    {
      "cell_type": "code",
      "metadata": {
        "colab": {
          "base_uri": "https://localhost:8080/"
        },
        "id": "Ijolv6_EI6kR",
        "outputId": "579adebb-216c-45b2-8028-3484d5d0e4c2"
      },
      "source": [
        "cls2id"
      ],
      "execution_count": null,
      "outputs": [
        {
          "output_type": "execute_result",
          "data": {
            "text/plain": [
              "{'criminal': 7,\n",
              " 'entertainment': 5,\n",
              " 'food': 6,\n",
              " 'health': 4,\n",
              " 'politics': 3,\n",
              " 'sports': 1,\n",
              " 'tech': 2}"
            ]
          },
          "metadata": {
            "tags": []
          },
          "execution_count": 70
        }
      ]
    },
    {
      "cell_type": "code",
      "metadata": {
        "id": "eVPqrMg6zYeT"
      },
      "source": [
        "predicted_labels_lda = [claster_map_lda[i] for i in predicted_aspects_lda]\n",
        "compare_lda_to_test = [mapper[label] for label in predicted_labels_lda]"
      ],
      "execution_count": null,
      "outputs": []
    },
    {
      "cell_type": "code",
      "metadata": {
        "id": "PQLMv56KzYeT",
        "outputId": "c24fd425-1748-4887-afc8-24fb03b058d7"
      },
      "source": [
        "print(classification_report(encoded_test_labels, compare_lda_to_test, target_names=['Food', 'Staff','Ambience',\n",
        "                                                                                    'Miscellaneous'\n",
        "                                                                                   ], digits=3))"
      ],
      "execution_count": null,
      "outputs": [
        {
          "output_type": "stream",
          "text": [
            "               precision    recall  f1-score   support\n",
            "\n",
            "         Food      0.898     0.475     0.621       887\n",
            "        Staff      0.506     0.494     0.500       352\n",
            "     Ambience      0.249     0.430     0.315       251\n",
            "Miscellaneous      0.000     0.000     0.000         0\n",
            "\n",
            "     accuracy                          0.472      1490\n",
            "    macro avg      0.413     0.350     0.359      1490\n",
            " weighted avg      0.696     0.472     0.541      1490\n",
            "\n"
          ],
          "name": "stdout"
        },
        {
          "output_type": "stream",
          "text": [
            "/opt/conda/lib/python3.7/site-packages/sklearn/metrics/_classification.py:1272: UndefinedMetricWarning: Recall and F-score are ill-defined and being set to 0.0 in labels with no true samples. Use `zero_division` parameter to control this behavior.\n",
            "  _warn_prf(average, modifier, msg_start, len(result))\n"
          ],
          "name": "stderr"
        }
      ]
    }
  ]
}